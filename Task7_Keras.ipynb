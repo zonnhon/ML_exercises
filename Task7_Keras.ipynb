{
 "cells": [
  {
   "cell_type": "markdown",
   "id": "ff2330a3",
   "metadata": {},
   "source": [
    "This data contains 961 instances of masses detected in mammograms, and contains the following attributes:\n",
    "\n",
    "BI-RADS assessment: 1 to 5 (ordinal) Age: patient's age in years (integer) Shape: mass shape: round=1 oval=2 lobular=3 irregular=4 (nominal) Margin: mass margin: circumscribed=1 microlobulated=2 obscured=3 ill-defined=4 spiculated=5 (nominal) Density: mass density high=1 iso=2 low=3 fat-containing=4 (ordinal) Severity: benign=0 or malignant=1 (binominal) BI-RADS is an assesment of how confident the severity classification is; it is not a \"predictive\" attribute and so we will discard it. The age, shape, margin, and density attributes are the features that we will build our model with, and \"severity\" is the classification we will attempt to predict based on those attributes.\n",
    "\n",
    "Although \"shape\" and \"margin\" are nominal data types, which sklearn typically doesn't deal with well, they are close enough to ordinal that we shouldn't just discard them. The \"shape\" for example is ordered increasingly from round to irregular."
   ]
  },
  {
   "cell_type": "code",
   "execution_count": 1,
   "id": "6ff026da",
   "metadata": {},
   "outputs": [],
   "source": [
    "import pandas as pd\n",
    "import numpy as np\n",
    "import matplotlib.pyplot as plt\n",
    "import os"
   ]
  },
  {
   "cell_type": "code",
   "execution_count": 2,
   "id": "5f93fb26",
   "metadata": {},
   "outputs": [
    {
     "data": {
      "text/html": [
       "<div>\n",
       "<style scoped>\n",
       "    .dataframe tbody tr th:only-of-type {\n",
       "        vertical-align: middle;\n",
       "    }\n",
       "\n",
       "    .dataframe tbody tr th {\n",
       "        vertical-align: top;\n",
       "    }\n",
       "\n",
       "    .dataframe thead th {\n",
       "        text-align: right;\n",
       "    }\n",
       "</style>\n",
       "<table border=\"1\" class=\"dataframe\">\n",
       "  <thead>\n",
       "    <tr style=\"text-align: right;\">\n",
       "      <th></th>\n",
       "      <th>BI-RADS</th>\n",
       "      <th>Age</th>\n",
       "      <th>Shape</th>\n",
       "      <th>Margin</th>\n",
       "      <th>Density</th>\n",
       "      <th>Severity</th>\n",
       "    </tr>\n",
       "  </thead>\n",
       "  <tbody>\n",
       "    <tr>\n",
       "      <th>0</th>\n",
       "      <td>5.0</td>\n",
       "      <td>67.0</td>\n",
       "      <td>3.0</td>\n",
       "      <td>5.0</td>\n",
       "      <td>3.0</td>\n",
       "      <td>1</td>\n",
       "    </tr>\n",
       "    <tr>\n",
       "      <th>1</th>\n",
       "      <td>4.0</td>\n",
       "      <td>43.0</td>\n",
       "      <td>1.0</td>\n",
       "      <td>1.0</td>\n",
       "      <td>NaN</td>\n",
       "      <td>1</td>\n",
       "    </tr>\n",
       "    <tr>\n",
       "      <th>2</th>\n",
       "      <td>5.0</td>\n",
       "      <td>58.0</td>\n",
       "      <td>4.0</td>\n",
       "      <td>5.0</td>\n",
       "      <td>3.0</td>\n",
       "      <td>1</td>\n",
       "    </tr>\n",
       "    <tr>\n",
       "      <th>3</th>\n",
       "      <td>4.0</td>\n",
       "      <td>28.0</td>\n",
       "      <td>1.0</td>\n",
       "      <td>1.0</td>\n",
       "      <td>3.0</td>\n",
       "      <td>0</td>\n",
       "    </tr>\n",
       "    <tr>\n",
       "      <th>4</th>\n",
       "      <td>5.0</td>\n",
       "      <td>74.0</td>\n",
       "      <td>1.0</td>\n",
       "      <td>5.0</td>\n",
       "      <td>NaN</td>\n",
       "      <td>1</td>\n",
       "    </tr>\n",
       "  </tbody>\n",
       "</table>\n",
       "</div>"
      ],
      "text/plain": [
       "   BI-RADS   Age  Shape  Margin  Density  Severity\n",
       "0      5.0  67.0    3.0     5.0      3.0         1\n",
       "1      4.0  43.0    1.0     1.0      NaN         1\n",
       "2      5.0  58.0    4.0     5.0      3.0         1\n",
       "3      4.0  28.0    1.0     1.0      3.0         0\n",
       "4      5.0  74.0    1.0     5.0      NaN         1"
      ]
     },
     "execution_count": 2,
     "metadata": {},
     "output_type": "execute_result"
    }
   ],
   "source": [
    "data_path = 'mammographic+mass'\n",
    "col_names = ['BI-RADS', 'Age', 'Shape', 'Margin', 'Density', 'Severity']\n",
    "df_data = pd.read_csv(os.path.join(data_path, 'mammographic_masses.data'), names=col_names, na_values='?')\n",
    "df_data.head()"
   ]
  },
  {
   "cell_type": "code",
   "execution_count": 3,
   "id": "859f57ab",
   "metadata": {},
   "outputs": [
    {
     "data": {
      "text/plain": [
       "(961, 6)"
      ]
     },
     "execution_count": 3,
     "metadata": {},
     "output_type": "execute_result"
    }
   ],
   "source": [
    "df_data.shape"
   ]
  },
  {
   "cell_type": "code",
   "execution_count": 4,
   "id": "4842d589",
   "metadata": {},
   "outputs": [
    {
     "name": "stdout",
     "output_type": "stream",
     "text": [
      "<class 'pandas.core.frame.DataFrame'>\n",
      "RangeIndex: 961 entries, 0 to 960\n",
      "Data columns (total 6 columns):\n",
      " #   Column    Non-Null Count  Dtype  \n",
      "---  ------    --------------  -----  \n",
      " 0   BI-RADS   959 non-null    float64\n",
      " 1   Age       956 non-null    float64\n",
      " 2   Shape     930 non-null    float64\n",
      " 3   Margin    913 non-null    float64\n",
      " 4   Density   885 non-null    float64\n",
      " 5   Severity  961 non-null    int64  \n",
      "dtypes: float64(5), int64(1)\n",
      "memory usage: 45.2 KB\n"
     ]
    }
   ],
   "source": [
    "df_data.info()"
   ]
  },
  {
   "cell_type": "code",
   "execution_count": 5,
   "id": "31a5f185",
   "metadata": {},
   "outputs": [
    {
     "data": {
      "text/html": [
       "<div>\n",
       "<style scoped>\n",
       "    .dataframe tbody tr th:only-of-type {\n",
       "        vertical-align: middle;\n",
       "    }\n",
       "\n",
       "    .dataframe tbody tr th {\n",
       "        vertical-align: top;\n",
       "    }\n",
       "\n",
       "    .dataframe thead th {\n",
       "        text-align: right;\n",
       "    }\n",
       "</style>\n",
       "<table border=\"1\" class=\"dataframe\">\n",
       "  <thead>\n",
       "    <tr style=\"text-align: right;\">\n",
       "      <th></th>\n",
       "      <th>BI-RADS</th>\n",
       "      <th>Age</th>\n",
       "      <th>Shape</th>\n",
       "      <th>Margin</th>\n",
       "      <th>Density</th>\n",
       "      <th>Severity</th>\n",
       "    </tr>\n",
       "  </thead>\n",
       "  <tbody>\n",
       "    <tr>\n",
       "      <th>count</th>\n",
       "      <td>959.000000</td>\n",
       "      <td>956.000000</td>\n",
       "      <td>930.000000</td>\n",
       "      <td>913.000000</td>\n",
       "      <td>885.000000</td>\n",
       "      <td>961.000000</td>\n",
       "    </tr>\n",
       "    <tr>\n",
       "      <th>mean</th>\n",
       "      <td>4.348279</td>\n",
       "      <td>55.487448</td>\n",
       "      <td>2.721505</td>\n",
       "      <td>2.796276</td>\n",
       "      <td>2.910734</td>\n",
       "      <td>0.463059</td>\n",
       "    </tr>\n",
       "    <tr>\n",
       "      <th>std</th>\n",
       "      <td>1.783031</td>\n",
       "      <td>14.480131</td>\n",
       "      <td>1.242792</td>\n",
       "      <td>1.566546</td>\n",
       "      <td>0.380444</td>\n",
       "      <td>0.498893</td>\n",
       "    </tr>\n",
       "    <tr>\n",
       "      <th>min</th>\n",
       "      <td>0.000000</td>\n",
       "      <td>18.000000</td>\n",
       "      <td>1.000000</td>\n",
       "      <td>1.000000</td>\n",
       "      <td>1.000000</td>\n",
       "      <td>0.000000</td>\n",
       "    </tr>\n",
       "    <tr>\n",
       "      <th>25%</th>\n",
       "      <td>4.000000</td>\n",
       "      <td>45.000000</td>\n",
       "      <td>2.000000</td>\n",
       "      <td>1.000000</td>\n",
       "      <td>3.000000</td>\n",
       "      <td>0.000000</td>\n",
       "    </tr>\n",
       "    <tr>\n",
       "      <th>50%</th>\n",
       "      <td>4.000000</td>\n",
       "      <td>57.000000</td>\n",
       "      <td>3.000000</td>\n",
       "      <td>3.000000</td>\n",
       "      <td>3.000000</td>\n",
       "      <td>0.000000</td>\n",
       "    </tr>\n",
       "    <tr>\n",
       "      <th>75%</th>\n",
       "      <td>5.000000</td>\n",
       "      <td>66.000000</td>\n",
       "      <td>4.000000</td>\n",
       "      <td>4.000000</td>\n",
       "      <td>3.000000</td>\n",
       "      <td>1.000000</td>\n",
       "    </tr>\n",
       "    <tr>\n",
       "      <th>max</th>\n",
       "      <td>55.000000</td>\n",
       "      <td>96.000000</td>\n",
       "      <td>4.000000</td>\n",
       "      <td>5.000000</td>\n",
       "      <td>4.000000</td>\n",
       "      <td>1.000000</td>\n",
       "    </tr>\n",
       "  </tbody>\n",
       "</table>\n",
       "</div>"
      ],
      "text/plain": [
       "          BI-RADS         Age       Shape      Margin     Density    Severity\n",
       "count  959.000000  956.000000  930.000000  913.000000  885.000000  961.000000\n",
       "mean     4.348279   55.487448    2.721505    2.796276    2.910734    0.463059\n",
       "std      1.783031   14.480131    1.242792    1.566546    0.380444    0.498893\n",
       "min      0.000000   18.000000    1.000000    1.000000    1.000000    0.000000\n",
       "25%      4.000000   45.000000    2.000000    1.000000    3.000000    0.000000\n",
       "50%      4.000000   57.000000    3.000000    3.000000    3.000000    0.000000\n",
       "75%      5.000000   66.000000    4.000000    4.000000    3.000000    1.000000\n",
       "max     55.000000   96.000000    4.000000    5.000000    4.000000    1.000000"
      ]
     },
     "execution_count": 5,
     "metadata": {},
     "output_type": "execute_result"
    }
   ],
   "source": [
    "df_data.describe()"
   ]
  },
  {
   "cell_type": "code",
   "execution_count": 6,
   "id": "6b414e8d",
   "metadata": {},
   "outputs": [],
   "source": [
    "df_data = df_data.dropna()\n",
    "df_data = df_data.apply(lambda x: (x - np.min(x)) / (np.max(x) - np.min(x)))"
   ]
  },
  {
   "cell_type": "code",
   "execution_count": 7,
   "id": "5097129c",
   "metadata": {},
   "outputs": [
    {
     "data": {
      "text/html": [
       "<div>\n",
       "<style scoped>\n",
       "    .dataframe tbody tr th:only-of-type {\n",
       "        vertical-align: middle;\n",
       "    }\n",
       "\n",
       "    .dataframe tbody tr th {\n",
       "        vertical-align: top;\n",
       "    }\n",
       "\n",
       "    .dataframe thead th {\n",
       "        text-align: right;\n",
       "    }\n",
       "</style>\n",
       "<table border=\"1\" class=\"dataframe\">\n",
       "  <thead>\n",
       "    <tr style=\"text-align: right;\">\n",
       "      <th></th>\n",
       "      <th>BI-RADS</th>\n",
       "      <th>Age</th>\n",
       "      <th>Shape</th>\n",
       "      <th>Margin</th>\n",
       "      <th>Density</th>\n",
       "      <th>Severity</th>\n",
       "    </tr>\n",
       "  </thead>\n",
       "  <tbody>\n",
       "    <tr>\n",
       "      <th>count</th>\n",
       "      <td>830.000000</td>\n",
       "      <td>830.000000</td>\n",
       "      <td>830.000000</td>\n",
       "      <td>830.000000</td>\n",
       "      <td>830.000000</td>\n",
       "      <td>830.000000</td>\n",
       "    </tr>\n",
       "    <tr>\n",
       "      <th>mean</th>\n",
       "      <td>0.079890</td>\n",
       "      <td>0.484384</td>\n",
       "      <td>0.593976</td>\n",
       "      <td>0.453313</td>\n",
       "      <td>0.638554</td>\n",
       "      <td>0.485542</td>\n",
       "    </tr>\n",
       "    <tr>\n",
       "      <th>std</th>\n",
       "      <td>0.034334</td>\n",
       "      <td>0.188100</td>\n",
       "      <td>0.414120</td>\n",
       "      <td>0.391794</td>\n",
       "      <td>0.116979</td>\n",
       "      <td>0.500092</td>\n",
       "    </tr>\n",
       "    <tr>\n",
       "      <th>min</th>\n",
       "      <td>0.000000</td>\n",
       "      <td>0.000000</td>\n",
       "      <td>0.000000</td>\n",
       "      <td>0.000000</td>\n",
       "      <td>0.000000</td>\n",
       "      <td>0.000000</td>\n",
       "    </tr>\n",
       "    <tr>\n",
       "      <th>25%</th>\n",
       "      <td>0.072727</td>\n",
       "      <td>0.358974</td>\n",
       "      <td>0.333333</td>\n",
       "      <td>0.000000</td>\n",
       "      <td>0.666667</td>\n",
       "      <td>0.000000</td>\n",
       "    </tr>\n",
       "    <tr>\n",
       "      <th>50%</th>\n",
       "      <td>0.072727</td>\n",
       "      <td>0.500000</td>\n",
       "      <td>0.666667</td>\n",
       "      <td>0.500000</td>\n",
       "      <td>0.666667</td>\n",
       "      <td>0.000000</td>\n",
       "    </tr>\n",
       "    <tr>\n",
       "      <th>75%</th>\n",
       "      <td>0.090909</td>\n",
       "      <td>0.615385</td>\n",
       "      <td>1.000000</td>\n",
       "      <td>0.750000</td>\n",
       "      <td>0.666667</td>\n",
       "      <td>1.000000</td>\n",
       "    </tr>\n",
       "    <tr>\n",
       "      <th>max</th>\n",
       "      <td>1.000000</td>\n",
       "      <td>1.000000</td>\n",
       "      <td>1.000000</td>\n",
       "      <td>1.000000</td>\n",
       "      <td>1.000000</td>\n",
       "      <td>1.000000</td>\n",
       "    </tr>\n",
       "  </tbody>\n",
       "</table>\n",
       "</div>"
      ],
      "text/plain": [
       "          BI-RADS         Age       Shape      Margin     Density    Severity\n",
       "count  830.000000  830.000000  830.000000  830.000000  830.000000  830.000000\n",
       "mean     0.079890    0.484384    0.593976    0.453313    0.638554    0.485542\n",
       "std      0.034334    0.188100    0.414120    0.391794    0.116979    0.500092\n",
       "min      0.000000    0.000000    0.000000    0.000000    0.000000    0.000000\n",
       "25%      0.072727    0.358974    0.333333    0.000000    0.666667    0.000000\n",
       "50%      0.072727    0.500000    0.666667    0.500000    0.666667    0.000000\n",
       "75%      0.090909    0.615385    1.000000    0.750000    0.666667    1.000000\n",
       "max      1.000000    1.000000    1.000000    1.000000    1.000000    1.000000"
      ]
     },
     "execution_count": 7,
     "metadata": {},
     "output_type": "execute_result"
    }
   ],
   "source": [
    "df_data.describe()"
   ]
  },
  {
   "cell_type": "code",
   "execution_count": 8,
   "id": "df6037e6",
   "metadata": {},
   "outputs": [
    {
     "name": "stdout",
     "output_type": "stream",
     "text": [
      "2.10.0\n"
     ]
    }
   ],
   "source": [
    "import tensorflow as tf\n",
    "print(tf.__version__)\n"
   ]
  },
  {
   "cell_type": "code",
   "execution_count": 9,
   "id": "67b96322",
   "metadata": {},
   "outputs": [],
   "source": [
    "from tensorflow.keras.models import Sequential\n",
    "from tensorflow.keras.layers import Dense\n",
    "from tensorflow.keras.optimizers import RMSprop, Adam\n",
    "\n",
    "from sklearn.model_selection import cross_val_score\n",
    "from scikeras.wrappers import KerasClassifier"
   ]
  },
  {
   "cell_type": "code",
   "execution_count": 10,
   "id": "707815dc",
   "metadata": {},
   "outputs": [],
   "source": [
    "X = df_data[['Age', 'Shape', 'Margin', 'Density']].values\n",
    "y = df_data['Severity'].values"
   ]
  },
  {
   "cell_type": "code",
   "execution_count": 11,
   "id": "4ab47275",
   "metadata": {},
   "outputs": [
    {
     "name": "stdout",
     "output_type": "stream",
     "text": [
      "(830, 4) (830,)\n"
     ]
    }
   ],
   "source": [
    "print(X.shape, y.shape)"
   ]
  },
  {
   "cell_type": "code",
   "execution_count": 12,
   "id": "bdfc7d5c",
   "metadata": {},
   "outputs": [],
   "source": [
    "model = Sequential()\n",
    "model.add(Dense(32, activation='relu', input_shape=(X.shape[1],)))\n",
    "model.add(Dense(16, activation='relu', input_shape=(X.shape[1],)))\n",
    "model.add(Dense(1, activation='sigmoid'))"
   ]
  },
  {
   "cell_type": "code",
   "execution_count": 13,
   "id": "bf75d312",
   "metadata": {},
   "outputs": [
    {
     "name": "stdout",
     "output_type": "stream",
     "text": [
      "Model: \"sequential\"\n",
      "_________________________________________________________________\n",
      " Layer (type)                Output Shape              Param #   \n",
      "=================================================================\n",
      " dense (Dense)               (None, 32)                160       \n",
      "                                                                 \n",
      " dense_1 (Dense)             (None, 16)                528       \n",
      "                                                                 \n",
      " dense_2 (Dense)             (None, 1)                 17        \n",
      "                                                                 \n",
      "=================================================================\n",
      "Total params: 705\n",
      "Trainable params: 705\n",
      "Non-trainable params: 0\n",
      "_________________________________________________________________\n"
     ]
    }
   ],
   "source": [
    "model.summary()"
   ]
  },
  {
   "cell_type": "code",
   "execution_count": 14,
   "id": "4c1fe2e7",
   "metadata": {},
   "outputs": [],
   "source": [
    "model.compile(loss='binary_crossentropy',\n",
    "              optimizer=Adam(),\n",
    "              metrics=['accuracy'])"
   ]
  },
  {
   "cell_type": "code",
   "execution_count": 27,
   "id": "05bf501c",
   "metadata": {},
   "outputs": [],
   "source": [
    "# estimator = KerasClassifier(model=model, epochs=100, verbose=0)\n",
    "# cv_scores = cross_val_score(estimator, X, y, cv=10)\n",
    "# cv_scores.mean()"
   ]
  },
  {
   "cell_type": "code",
   "execution_count": 20,
   "id": "54a6c3c1",
   "metadata": {},
   "outputs": [],
   "source": [
    "import random\n",
    "idxs = random.sample(list(range(len(X))), int(len(X)))"
   ]
  },
  {
   "cell_type": "code",
   "execution_count": 23,
   "id": "7dd1df3d",
   "metadata": {},
   "outputs": [],
   "source": [
    "X_train = X[idxs[:int(len(X)*0.8)]]\n",
    "y_train = y[idxs[:int(len(X)*0.8)]]\n",
    "X_test = X[idxs[int(len(X)*0.8)]:]\n",
    "y_test = y[idxs[int(len(X)*0.8)]:]"
   ]
  },
  {
   "cell_type": "code",
   "execution_count": 24,
   "id": "3b02f735",
   "metadata": {},
   "outputs": [
    {
     "name": "stdout",
     "output_type": "stream",
     "text": [
      "Epoch 1/100\n",
      "67/67 - 4s - loss: 0.6784 - accuracy: 0.6581 - 4s/epoch - 59ms/step\n",
      "Epoch 2/100\n",
      "67/67 - 0s - loss: 0.6072 - accuracy: 0.7801 - 289ms/epoch - 4ms/step\n",
      "Epoch 3/100\n",
      "67/67 - 0s - loss: 0.5307 - accuracy: 0.7967 - 287ms/epoch - 4ms/step\n",
      "Epoch 4/100\n",
      "67/67 - 0s - loss: 0.4852 - accuracy: 0.7907 - 326ms/epoch - 5ms/step\n",
      "Epoch 5/100\n",
      "67/67 - 0s - loss: 0.4699 - accuracy: 0.7907 - 265ms/epoch - 4ms/step\n",
      "Epoch 6/100\n",
      "67/67 - 0s - loss: 0.4700 - accuracy: 0.7952 - 297ms/epoch - 4ms/step\n",
      "Epoch 7/100\n",
      "67/67 - 0s - loss: 0.4597 - accuracy: 0.8042 - 290ms/epoch - 4ms/step\n",
      "Epoch 8/100\n",
      "67/67 - 0s - loss: 0.4600 - accuracy: 0.8012 - 312ms/epoch - 5ms/step\n",
      "Epoch 9/100\n",
      "67/67 - 0s - loss: 0.4556 - accuracy: 0.7982 - 308ms/epoch - 5ms/step\n",
      "Epoch 10/100\n",
      "67/67 - 0s - loss: 0.4536 - accuracy: 0.8057 - 305ms/epoch - 5ms/step\n",
      "Epoch 11/100\n",
      "67/67 - 0s - loss: 0.4524 - accuracy: 0.8042 - 296ms/epoch - 4ms/step\n",
      "Epoch 12/100\n",
      "67/67 - 0s - loss: 0.4496 - accuracy: 0.8117 - 308ms/epoch - 5ms/step\n",
      "Epoch 13/100\n",
      "67/67 - 0s - loss: 0.4454 - accuracy: 0.8117 - 288ms/epoch - 4ms/step\n",
      "Epoch 14/100\n",
      "67/67 - 0s - loss: 0.4448 - accuracy: 0.8087 - 292ms/epoch - 4ms/step\n",
      "Epoch 15/100\n",
      "67/67 - 0s - loss: 0.4453 - accuracy: 0.8042 - 301ms/epoch - 4ms/step\n",
      "Epoch 16/100\n",
      "67/67 - 0s - loss: 0.4412 - accuracy: 0.8163 - 240ms/epoch - 4ms/step\n",
      "Epoch 17/100\n",
      "67/67 - 0s - loss: 0.4451 - accuracy: 0.8072 - 280ms/epoch - 4ms/step\n",
      "Epoch 18/100\n",
      "67/67 - 0s - loss: 0.4384 - accuracy: 0.8102 - 297ms/epoch - 4ms/step\n",
      "Epoch 19/100\n",
      "67/67 - 0s - loss: 0.4374 - accuracy: 0.8193 - 285ms/epoch - 4ms/step\n",
      "Epoch 20/100\n",
      "67/67 - 0s - loss: 0.4362 - accuracy: 0.8178 - 294ms/epoch - 4ms/step\n",
      "Epoch 21/100\n",
      "67/67 - 0s - loss: 0.4349 - accuracy: 0.8178 - 318ms/epoch - 5ms/step\n",
      "Epoch 22/100\n",
      "67/67 - 0s - loss: 0.4352 - accuracy: 0.8268 - 335ms/epoch - 5ms/step\n",
      "Epoch 23/100\n",
      "67/67 - 0s - loss: 0.4353 - accuracy: 0.8163 - 320ms/epoch - 5ms/step\n",
      "Epoch 24/100\n",
      "67/67 - 0s - loss: 0.4348 - accuracy: 0.8117 - 333ms/epoch - 5ms/step\n",
      "Epoch 25/100\n",
      "67/67 - 0s - loss: 0.4308 - accuracy: 0.8193 - 311ms/epoch - 5ms/step\n",
      "Epoch 26/100\n",
      "67/67 - 0s - loss: 0.4300 - accuracy: 0.8193 - 316ms/epoch - 5ms/step\n",
      "Epoch 27/100\n",
      "67/67 - 0s - loss: 0.4292 - accuracy: 0.8253 - 323ms/epoch - 5ms/step\n",
      "Epoch 28/100\n",
      "67/67 - 0s - loss: 0.4274 - accuracy: 0.8148 - 314ms/epoch - 5ms/step\n",
      "Epoch 29/100\n",
      "67/67 - 0s - loss: 0.4275 - accuracy: 0.8193 - 299ms/epoch - 4ms/step\n",
      "Epoch 30/100\n",
      "67/67 - 0s - loss: 0.4283 - accuracy: 0.8193 - 299ms/epoch - 4ms/step\n",
      "Epoch 31/100\n",
      "67/67 - 0s - loss: 0.4270 - accuracy: 0.8253 - 342ms/epoch - 5ms/step\n",
      "Epoch 32/100\n",
      "67/67 - 0s - loss: 0.4253 - accuracy: 0.8268 - 300ms/epoch - 4ms/step\n",
      "Epoch 33/100\n",
      "67/67 - 0s - loss: 0.4292 - accuracy: 0.8193 - 288ms/epoch - 4ms/step\n",
      "Epoch 34/100\n",
      "67/67 - 0s - loss: 0.4274 - accuracy: 0.8223 - 309ms/epoch - 5ms/step\n",
      "Epoch 35/100\n",
      "67/67 - 0s - loss: 0.4264 - accuracy: 0.8193 - 216ms/epoch - 3ms/step\n",
      "Epoch 36/100\n",
      "67/67 - 0s - loss: 0.4247 - accuracy: 0.8298 - 152ms/epoch - 2ms/step\n",
      "Epoch 37/100\n",
      "67/67 - 0s - loss: 0.4263 - accuracy: 0.8193 - 301ms/epoch - 4ms/step\n",
      "Epoch 38/100\n",
      "67/67 - 0s - loss: 0.4299 - accuracy: 0.8238 - 308ms/epoch - 5ms/step\n",
      "Epoch 39/100\n",
      "67/67 - 0s - loss: 0.4256 - accuracy: 0.8268 - 214ms/epoch - 3ms/step\n",
      "Epoch 40/100\n",
      "67/67 - 0s - loss: 0.4241 - accuracy: 0.8253 - 308ms/epoch - 5ms/step\n",
      "Epoch 41/100\n",
      "67/67 - 0s - loss: 0.4253 - accuracy: 0.8208 - 291ms/epoch - 4ms/step\n",
      "Epoch 42/100\n",
      "67/67 - 0s - loss: 0.4276 - accuracy: 0.8193 - 293ms/epoch - 4ms/step\n",
      "Epoch 43/100\n",
      "67/67 - 0s - loss: 0.4276 - accuracy: 0.8223 - 189ms/epoch - 3ms/step\n",
      "Epoch 44/100\n",
      "67/67 - 0s - loss: 0.4270 - accuracy: 0.8268 - 178ms/epoch - 3ms/step\n",
      "Epoch 45/100\n",
      "67/67 - 0s - loss: 0.4262 - accuracy: 0.8223 - 291ms/epoch - 4ms/step\n",
      "Epoch 46/100\n",
      "67/67 - 0s - loss: 0.4267 - accuracy: 0.8178 - 311ms/epoch - 5ms/step\n",
      "Epoch 47/100\n",
      "67/67 - 0s - loss: 0.4244 - accuracy: 0.8283 - 202ms/epoch - 3ms/step\n",
      "Epoch 48/100\n",
      "67/67 - 0s - loss: 0.4227 - accuracy: 0.8283 - 289ms/epoch - 4ms/step\n",
      "Epoch 49/100\n",
      "67/67 - 0s - loss: 0.4250 - accuracy: 0.8193 - 310ms/epoch - 5ms/step\n",
      "Epoch 50/100\n",
      "67/67 - 0s - loss: 0.4235 - accuracy: 0.8208 - 307ms/epoch - 5ms/step\n",
      "Epoch 51/100\n",
      "67/67 - 0s - loss: 0.4230 - accuracy: 0.8268 - 291ms/epoch - 4ms/step\n",
      "Epoch 52/100\n",
      "67/67 - 0s - loss: 0.4253 - accuracy: 0.8208 - 306ms/epoch - 5ms/step\n",
      "Epoch 53/100\n",
      "67/67 - 0s - loss: 0.4221 - accuracy: 0.8268 - 328ms/epoch - 5ms/step\n",
      "Epoch 54/100\n",
      "67/67 - 0s - loss: 0.4226 - accuracy: 0.8253 - 292ms/epoch - 4ms/step\n",
      "Epoch 55/100\n",
      "67/67 - 0s - loss: 0.4236 - accuracy: 0.8238 - 290ms/epoch - 4ms/step\n",
      "Epoch 56/100\n",
      "67/67 - 0s - loss: 0.4231 - accuracy: 0.8298 - 288ms/epoch - 4ms/step\n",
      "Epoch 57/100\n",
      "67/67 - 0s - loss: 0.4239 - accuracy: 0.8208 - 291ms/epoch - 4ms/step\n",
      "Epoch 58/100\n",
      "67/67 - 0s - loss: 0.4216 - accuracy: 0.8223 - 269ms/epoch - 4ms/step\n",
      "Epoch 59/100\n",
      "67/67 - 0s - loss: 0.4261 - accuracy: 0.8208 - 289ms/epoch - 4ms/step\n",
      "Epoch 60/100\n",
      "67/67 - 0s - loss: 0.4241 - accuracy: 0.8238 - 294ms/epoch - 4ms/step\n",
      "Epoch 61/100\n",
      "67/67 - 0s - loss: 0.4199 - accuracy: 0.8208 - 278ms/epoch - 4ms/step\n",
      "Epoch 62/100\n",
      "67/67 - 0s - loss: 0.4308 - accuracy: 0.8238 - 290ms/epoch - 4ms/step\n",
      "Epoch 63/100\n",
      "67/67 - 0s - loss: 0.4225 - accuracy: 0.8208 - 177ms/epoch - 3ms/step\n",
      "Epoch 64/100\n",
      "67/67 - 0s - loss: 0.4264 - accuracy: 0.8193 - 290ms/epoch - 4ms/step\n",
      "Epoch 65/100\n",
      "67/67 - 0s - loss: 0.4221 - accuracy: 0.8208 - 261ms/epoch - 4ms/step\n",
      "Epoch 66/100\n",
      "67/67 - 0s - loss: 0.4223 - accuracy: 0.8268 - 274ms/epoch - 4ms/step\n",
      "Epoch 67/100\n",
      "67/67 - 0s - loss: 0.4241 - accuracy: 0.8148 - 250ms/epoch - 4ms/step\n",
      "Epoch 68/100\n",
      "67/67 - 0s - loss: 0.4225 - accuracy: 0.8268 - 284ms/epoch - 4ms/step\n",
      "Epoch 69/100\n",
      "67/67 - 0s - loss: 0.4221 - accuracy: 0.8238 - 279ms/epoch - 4ms/step\n",
      "Epoch 70/100\n",
      "67/67 - 0s - loss: 0.4245 - accuracy: 0.8208 - 289ms/epoch - 4ms/step\n",
      "Epoch 71/100\n",
      "67/67 - 0s - loss: 0.4239 - accuracy: 0.8238 - 299ms/epoch - 4ms/step\n",
      "Epoch 72/100\n",
      "67/67 - 0s - loss: 0.4251 - accuracy: 0.8223 - 258ms/epoch - 4ms/step\n",
      "Epoch 73/100\n",
      "67/67 - 0s - loss: 0.4206 - accuracy: 0.8268 - 246ms/epoch - 4ms/step\n",
      "Epoch 74/100\n",
      "67/67 - 0s - loss: 0.4218 - accuracy: 0.8253 - 287ms/epoch - 4ms/step\n",
      "Epoch 75/100\n",
      "67/67 - 0s - loss: 0.4204 - accuracy: 0.8238 - 291ms/epoch - 4ms/step\n",
      "Epoch 76/100\n",
      "67/67 - 0s - loss: 0.4224 - accuracy: 0.8238 - 277ms/epoch - 4ms/step\n",
      "Epoch 77/100\n",
      "67/67 - 0s - loss: 0.4205 - accuracy: 0.8223 - 251ms/epoch - 4ms/step\n",
      "Epoch 78/100\n",
      "67/67 - 0s - loss: 0.4213 - accuracy: 0.8283 - 290ms/epoch - 4ms/step\n",
      "Epoch 79/100\n",
      "67/67 - 0s - loss: 0.4243 - accuracy: 0.8253 - 336ms/epoch - 5ms/step\n",
      "Epoch 80/100\n",
      "67/67 - 0s - loss: 0.4191 - accuracy: 0.8253 - 277ms/epoch - 4ms/step\n",
      "Epoch 81/100\n",
      "67/67 - 0s - loss: 0.4204 - accuracy: 0.8238 - 266ms/epoch - 4ms/step\n",
      "Epoch 82/100\n",
      "67/67 - 0s - loss: 0.4260 - accuracy: 0.8223 - 274ms/epoch - 4ms/step\n",
      "Epoch 83/100\n",
      "67/67 - 0s - loss: 0.4231 - accuracy: 0.8238 - 292ms/epoch - 4ms/step\n",
      "Epoch 84/100\n",
      "67/67 - 0s - loss: 0.4209 - accuracy: 0.8223 - 289ms/epoch - 4ms/step\n",
      "Epoch 85/100\n",
      "67/67 - 0s - loss: 0.4228 - accuracy: 0.8178 - 297ms/epoch - 4ms/step\n",
      "Epoch 86/100\n",
      "67/67 - 0s - loss: 0.4215 - accuracy: 0.8238 - 346ms/epoch - 5ms/step\n",
      "Epoch 87/100\n",
      "67/67 - 0s - loss: 0.4197 - accuracy: 0.8268 - 286ms/epoch - 4ms/step\n",
      "Epoch 88/100\n",
      "67/67 - 0s - loss: 0.4181 - accuracy: 0.8238 - 273ms/epoch - 4ms/step\n",
      "Epoch 89/100\n",
      "67/67 - 0s - loss: 0.4249 - accuracy: 0.8223 - 280ms/epoch - 4ms/step\n",
      "Epoch 90/100\n",
      "67/67 - 0s - loss: 0.4199 - accuracy: 0.8208 - 264ms/epoch - 4ms/step\n",
      "Epoch 91/100\n",
      "67/67 - 0s - loss: 0.4217 - accuracy: 0.8193 - 264ms/epoch - 4ms/step\n",
      "Epoch 92/100\n",
      "67/67 - 0s - loss: 0.4205 - accuracy: 0.8253 - 267ms/epoch - 4ms/step\n",
      "Epoch 93/100\n",
      "67/67 - 0s - loss: 0.4225 - accuracy: 0.8208 - 311ms/epoch - 5ms/step\n",
      "Epoch 94/100\n",
      "67/67 - 0s - loss: 0.4214 - accuracy: 0.8148 - 288ms/epoch - 4ms/step\n",
      "Epoch 95/100\n",
      "67/67 - 0s - loss: 0.4201 - accuracy: 0.8268 - 263ms/epoch - 4ms/step\n",
      "Epoch 96/100\n",
      "67/67 - 0s - loss: 0.4212 - accuracy: 0.8283 - 271ms/epoch - 4ms/step\n",
      "Epoch 97/100\n",
      "67/67 - 0s - loss: 0.4199 - accuracy: 0.8298 - 310ms/epoch - 5ms/step\n",
      "Epoch 98/100\n",
      "67/67 - 0s - loss: 0.4217 - accuracy: 0.8208 - 195ms/epoch - 3ms/step\n",
      "Epoch 99/100\n",
      "67/67 - 0s - loss: 0.4222 - accuracy: 0.8268 - 289ms/epoch - 4ms/step\n"
     ]
    },
    {
     "name": "stdout",
     "output_type": "stream",
     "text": [
      "Epoch 100/100\n",
      "67/67 - 0s - loss: 0.4168 - accuracy: 0.8268 - 265ms/epoch - 4ms/step\n"
     ]
    }
   ],
   "source": [
    "history = model.fit(X_train, y_train,\n",
    "                    batch_size=10,\n",
    "                    epochs=100,\n",
    "                    verbose=2,\n",
    "                    )"
   ]
  },
  {
   "cell_type": "code",
   "execution_count": 25,
   "id": "8b24ca9e",
   "metadata": {},
   "outputs": [
    {
     "name": "stdout",
     "output_type": "stream",
     "text": [
      "24/24 [==============================] - 0s 4ms/step - loss: 0.4383 - accuracy: 0.8126\n"
     ]
    }
   ],
   "source": [
    "acc = model.evaluate(X_test, y_test)"
   ]
  },
  {
   "cell_type": "code",
   "execution_count": 26,
   "id": "98f95b45",
   "metadata": {},
   "outputs": [
    {
     "data": {
      "text/plain": [
       "[0.4382634162902832, 0.8125836849212646]"
      ]
     },
     "execution_count": 26,
     "metadata": {},
     "output_type": "execute_result"
    }
   ],
   "source": [
    "acc"
   ]
  },
  {
   "cell_type": "code",
   "execution_count": null,
   "id": "885a887b",
   "metadata": {},
   "outputs": [],
   "source": []
  }
 ],
 "metadata": {
  "kernelspec": {
   "display_name": "Python 3 (ipykernel)",
   "language": "python",
   "name": "python3"
  },
  "language_info": {
   "codemirror_mode": {
    "name": "ipython",
    "version": 3
   },
   "file_extension": ".py",
   "mimetype": "text/x-python",
   "name": "python",
   "nbconvert_exporter": "python",
   "pygments_lexer": "ipython3",
   "version": "3.8.17"
  }
 },
 "nbformat": 4,
 "nbformat_minor": 5
}
